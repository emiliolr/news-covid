{
 "cells": [
  {
   "cell_type": "code",
   "execution_count": 1,
   "metadata": {},
   "outputs": [],
   "source": [
    "import pandas as pd\n",
    "from random import choice\n",
    "from twython import Twython\n",
    "import seaborn as sns\n",
    "import matplotlib.pyplot as plt"
   ]
  },
  {
   "cell_type": "markdown",
   "metadata": {},
   "source": [
    "**Table for intro:**"
   ]
  },
  {
   "cell_type": "code",
   "execution_count": 2,
   "metadata": {},
   "outputs": [],
   "source": [
    "sources_full = ['The New York Times', 'CNN', 'BBC (World)', 'The Economist', 'Reuters', 'The Wall Street Journal',\n",
    "                'TIME', 'ABC News', 'The Washington Post', 'The Associated Press']\n",
    "sources = ['nytimes', 'CNN', 'bbcworld', 'theeconomist', 'reuters', 'WSJ', 'TIME', 'ABC', 'washingtonpost', 'AP']\n",
    "df = pd.DataFrame(index = sources_full)"
   ]
  },
  {
   "cell_type": "code",
   "execution_count": 63,
   "metadata": {},
   "outputs": [
    {
     "name": "stdout",
     "output_type": "stream",
     "text": [
      "Total number of followers: 251.1 million\n"
     ]
    },
    {
     "data": {
      "text/html": [
       "<div>\n",
       "<style scoped>\n",
       "    .dataframe tbody tr th:only-of-type {\n",
       "        vertical-align: middle;\n",
       "    }\n",
       "\n",
       "    .dataframe tbody tr th {\n",
       "        vertical-align: top;\n",
       "    }\n",
       "\n",
       "    .dataframe thead th {\n",
       "        text-align: right;\n",
       "    }\n",
       "</style>\n",
       "<table border=\"1\" class=\"dataframe\">\n",
       "  <thead>\n",
       "    <tr style=\"text-align: right;\">\n",
       "      <th></th>\n",
       "      <th>Twitter_Handle</th>\n",
       "      <th>Country</th>\n",
       "      <th>Num_Followers (M)</th>\n",
       "    </tr>\n",
       "  </thead>\n",
       "  <tbody>\n",
       "    <tr>\n",
       "      <th>The New York Times</th>\n",
       "      <td>nytimes</td>\n",
       "      <td>US</td>\n",
       "      <td>46.8</td>\n",
       "    </tr>\n",
       "    <tr>\n",
       "      <th>CNN</th>\n",
       "      <td>CNN</td>\n",
       "      <td>US</td>\n",
       "      <td>48.5</td>\n",
       "    </tr>\n",
       "    <tr>\n",
       "      <th>BBC (World)</th>\n",
       "      <td>bbcworld</td>\n",
       "      <td>UK</td>\n",
       "      <td>28.2</td>\n",
       "    </tr>\n",
       "    <tr>\n",
       "      <th>The Economist</th>\n",
       "      <td>theeconomist</td>\n",
       "      <td>UK</td>\n",
       "      <td>24.8</td>\n",
       "    </tr>\n",
       "    <tr>\n",
       "      <th>Reuters</th>\n",
       "      <td>reuters</td>\n",
       "      <td>UK</td>\n",
       "      <td>22.0</td>\n",
       "    </tr>\n",
       "    <tr>\n",
       "      <th>The Wall Street Journal</th>\n",
       "      <td>WSJ</td>\n",
       "      <td>US</td>\n",
       "      <td>17.8</td>\n",
       "    </tr>\n",
       "    <tr>\n",
       "      <th>TIME</th>\n",
       "      <td>TIME</td>\n",
       "      <td>US</td>\n",
       "      <td>17.2</td>\n",
       "    </tr>\n",
       "    <tr>\n",
       "      <th>ABC News</th>\n",
       "      <td>ABC</td>\n",
       "      <td>US</td>\n",
       "      <td>15.7</td>\n",
       "    </tr>\n",
       "    <tr>\n",
       "      <th>The Washington Post</th>\n",
       "      <td>washingtonpost</td>\n",
       "      <td>US</td>\n",
       "      <td>15.9</td>\n",
       "    </tr>\n",
       "    <tr>\n",
       "      <th>The Associated Press</th>\n",
       "      <td>AP</td>\n",
       "      <td>US</td>\n",
       "      <td>14.2</td>\n",
       "    </tr>\n",
       "  </tbody>\n",
       "</table>\n",
       "</div>"
      ],
      "text/plain": [
       "                         Twitter_Handle Country  Num_Followers (M)\n",
       "The New York Times              nytimes      US               46.8\n",
       "CNN                                 CNN      US               48.5\n",
       "BBC (World)                    bbcworld      UK               28.2\n",
       "The Economist              theeconomist      UK               24.8\n",
       "Reuters                         reuters      UK               22.0\n",
       "The Wall Street Journal             WSJ      US               17.8\n",
       "TIME                               TIME      US               17.2\n",
       "ABC News                            ABC      US               15.7\n",
       "The Washington Post      washingtonpost      US               15.9\n",
       "The Associated Press                 AP      US               14.2"
      ]
     },
     "execution_count": 63,
     "metadata": {},
     "output_type": "execute_result"
    }
   ],
   "source": [
    "#producing the table for the intro section\n",
    "df['Twitter_Handle'] = sources\n",
    "df['Country'] = ['US', 'US', 'UK', 'UK', 'UK', 'US', 'US', 'US', 'US', 'US']\n",
    "df['Num_Followers (M)'] = [46.8, 48.5, 28.2, 24.8, 22, 17.8, 17.2, 15.7, 15.9, 14.2]\n",
    "print('Total number of followers:', df['Num_Followers (M)'].sum(), 'million')\n",
    "df"
   ]
  },
  {
   "cell_type": "markdown",
   "metadata": {},
   "source": [
    "**Getting example negative, neutral, and positive tweets for methods section:**"
   ]
  },
  {
   "cell_type": "code",
   "execution_count": 8,
   "metadata": {},
   "outputs": [],
   "source": [
    "#getting subsets\n",
    "dfA = pd.read_csv('DATA_W_ANALYSIS/' + sources[0] + '_FINAL.csv', index_col = 'ID', \\\n",
    "                  usecols = ['ID', 'User', 'Tweet_Text', 'Sentiment'])\n",
    "\n",
    "for x in sources[1 : ]:\n",
    "    dfA = dfA.append(pd.read_csv('DATA_W_ANALYSIS/' + x + '_FINAL.csv', index_col = 'ID', \\\n",
    "                                     usecols = ['ID', 'User', 'Tweet_Text', 'Sentiment']))\n",
    "    \n",
    "pos_sub = dfA[(dfA['Sentiment'] == 1) & ~(dfA['Tweet_Text'].fillna('').str.startswith('RT'))]\n",
    "part_pos_sub = dfA[(dfA['Sentiment'] == 0.5) & ~(dfA['Tweet_Text'].fillna('').str.startswith('RT'))]\n",
    "neg_sub = dfA[(dfA['Sentiment'] == -1) & ~(dfA['Tweet_Text'].fillna('').str.startswith('RT'))]\n",
    "part_neg_sub = dfA[(dfA['Sentiment'] == -0.5) & ~(dfA['Tweet_Text'].fillna('').str.startswith('RT'))]\n",
    "neu_sub = dfA[(dfA['Sentiment'] == 0) & ~(dfA['Tweet_Text'].fillna('').str.startswith('RT'))]"
   ]
  },
  {
   "cell_type": "code",
   "execution_count": 49,
   "metadata": {},
   "outputs": [],
   "source": [
    "#picking out example tweets\n",
    "c1 = choice(pos_sub.index)\n",
    "c2 = choice(part_pos_sub.index)\n",
    "c3 = choice(neg_sub.index)\n",
    "c4 = choice(part_neg_sub.index)\n",
    "c5 = choice(neu_sub.index)\n",
    "\n",
    "df = pd.DataFrame()\n",
    "\n",
    "# print(neg_sub.loc[c2])\n",
    "dfs = [pos_sub, part_pos_sub, neu_sub, part_neg_sub, neg_sub]\n",
    "choices = [c1, c2, c5, c4, c3]\n",
    "\n",
    "df['Polarity'] = [x.loc[c].loc['Sentiment'] for x, c in zip(dfs, choices)]\n",
    "df['Tweet_Text'] = [x.loc[c].loc['Tweet_Text'] for x, c in zip(dfs, choices)]\n",
    "df['User'] = [x.loc[c].loc['User'] for x, c in zip(dfs, choices)]"
   ]
  },
  {
   "cell_type": "code",
   "execution_count": 50,
   "metadata": {},
   "outputs": [],
   "source": [
    "pd.set_option('display.max_colwidth', -1)\n",
    "\n",
    "df['User'] = df['User'].str.lstrip('@').replace({'BBCWorld' : 'bbcworld', 'Reuters' : 'reuters', 'TheEconomist' : 'theeconomist'})\n",
    "df.set_index('User', inplace = True)"
   ]
  },
  {
   "cell_type": "code",
   "execution_count": 51,
   "metadata": {},
   "outputs": [
    {
     "data": {
      "text/html": [
       "<div>\n",
       "<style scoped>\n",
       "    .dataframe tbody tr th:only-of-type {\n",
       "        vertical-align: middle;\n",
       "    }\n",
       "\n",
       "    .dataframe tbody tr th {\n",
       "        vertical-align: top;\n",
       "    }\n",
       "\n",
       "    .dataframe thead th {\n",
       "        text-align: right;\n",
       "    }\n",
       "</style>\n",
       "<table border=\"1\" class=\"dataframe\">\n",
       "  <thead>\n",
       "    <tr style=\"text-align: right;\">\n",
       "      <th></th>\n",
       "      <th>Polarity</th>\n",
       "      <th>Tweet_Text</th>\n",
       "    </tr>\n",
       "    <tr>\n",
       "      <th>User</th>\n",
       "      <th></th>\n",
       "      <th></th>\n",
       "    </tr>\n",
       "  </thead>\n",
       "  <tbody>\n",
       "    <tr>\n",
       "      <th>CNN</th>\n",
       "      <td>1.0</td>\n",
       "      <td>Legendary jazz trumpeter Wallace Roney has died of complications from the novel coronavirus, his publicist said. He was 59.</td>\n",
       "    </tr>\n",
       "    <tr>\n",
       "      <th>reuters</th>\n",
       "      <td>0.5</td>\n",
       "      <td>ICYMI: Scientists are deriving grease from insects to replace butter which they say is more sustainable than dairy production</td>\n",
       "    </tr>\n",
       "    <tr>\n",
       "      <th>washingtonpost</th>\n",
       "      <td>0.0</td>\n",
       "      <td>With NFL front offices working from home, the draft process looks a lot different this year</td>\n",
       "    </tr>\n",
       "    <tr>\n",
       "      <th>WSJ</th>\n",
       "      <td>-0.5</td>\n",
       "      <td>The Dow is on pace to register one of its worst weeks ever as governments and central banks announced measures to cushion impact of the coronavirus</td>\n",
       "    </tr>\n",
       "    <tr>\n",
       "      <th>ABC</th>\n",
       "      <td>-1.0</td>\n",
       "      <td>Coronavirus and 2020 campaigns: Race looks grim as states continue to delay primaries.</td>\n",
       "    </tr>\n",
       "  </tbody>\n",
       "</table>\n",
       "</div>"
      ],
      "text/plain": [
       "                Polarity  \\\n",
       "User                       \n",
       "CNN             1.0        \n",
       "reuters         0.5        \n",
       "washingtonpost  0.0        \n",
       "WSJ            -0.5        \n",
       "ABC            -1.0        \n",
       "\n",
       "                                                                                                                                                          Tweet_Text  \n",
       "User                                                                                                                                                                  \n",
       "CNN             Legendary jazz trumpeter Wallace Roney has died of complications from the novel coronavirus, his publicist said. He was 59.                           \n",
       "reuters         ICYMI: Scientists are deriving grease from insects to replace butter which they say is more sustainable than dairy production                         \n",
       "washingtonpost  With NFL front offices working from home, the draft process looks a lot different this year                                                           \n",
       "WSJ             The Dow is on pace to register one of its worst weeks ever as governments and central banks announced measures to cushion impact of the coronavirus   \n",
       "ABC             Coronavirus and 2020 campaigns: Race looks grim as states continue to delay primaries.                                                                "
      ]
     },
     "execution_count": 51,
     "metadata": {},
     "output_type": "execute_result"
    }
   ],
   "source": [
    "df"
   ]
  },
  {
   "cell_type": "code",
   "execution_count": 39,
   "metadata": {},
   "outputs": [
    {
     "data": {
      "text/plain": [
       "{1238568393755832320: 'US stocks finished a turbulent week with gains on Friday, logging their best day since October 2008 https://t.co/Tbs034erlB',\n",
       " 1237533613312184320: 'MORE: Among those looking instead for one who “can bring needed change” (35% of voters), Sanders prevailed, 53-44%, per preliminary exit poll results. https://t.co/A7HACTJT9A',\n",
       " 1243293934375317504: 'Big banks reassure staff about potential job cuts https://t.co/dZ0QCLXnYc https://t.co/ojOQtPQbSu',\n",
       " 1242126731034669057: 'Opinion: The GOP just smuggled another awful provision into the big stimulus bill https://t.co/kju8xZphDF',\n",
       " 1243124099083354112: \"Japan says virus has made economy's condition 'severe', worst view in seven years https://t.co/zIWlOgdfj0 https://t.co/5ryagun91B\"}"
      ]
     },
     "execution_count": 39,
     "metadata": {},
     "output_type": "execute_result"
    }
   ],
   "source": [
    "#checking that the SA example tweets are still up on Twitter\n",
    "creds = {}\n",
    "with open('tInfo.txt', 'r') as f:\n",
    "    c = f.read().split('\\n')\n",
    "    creds['Consumer_Key'] = c[0]\n",
    "    creds['Consumer_Secret'] = c[1]\n",
    "    creds['Access_Key'] = c[2]\n",
    "    creds['Access_Secret'] = c[3]\n",
    "\n",
    "py_tweets = Twython(creds['Consumer_Key'], creds['Consumer_Secret'])\n",
    "\n",
    "full = {}\n",
    "\n",
    "for i in choices:\n",
    "    query = {'id' : i, 'tweet_mode' : 'extended'}\n",
    "    full[i] = py_tweets.show_status(**query)['full_text']\n",
    "    \n",
    "full"
   ]
  },
  {
   "cell_type": "markdown",
   "metadata": {},
   "source": [
    "**Methods section table:**"
   ]
  },
  {
   "cell_type": "code",
   "execution_count": 69,
   "metadata": {},
   "outputs": [
    {
     "data": {
      "text/html": [
       "<div>\n",
       "<style scoped>\n",
       "    .dataframe tbody tr th:only-of-type {\n",
       "        vertical-align: middle;\n",
       "    }\n",
       "\n",
       "    .dataframe tbody tr th {\n",
       "        vertical-align: top;\n",
       "    }\n",
       "\n",
       "    .dataframe thead th {\n",
       "        text-align: right;\n",
       "    }\n",
       "</style>\n",
       "<table border=\"1\" class=\"dataframe\">\n",
       "  <thead>\n",
       "    <tr style=\"text-align: right;\">\n",
       "      <th></th>\n",
       "      <th>Num_Tweets</th>\n",
       "      <th>Percent_Unique</th>\n",
       "      <th>Percent_Retweets</th>\n",
       "    </tr>\n",
       "  </thead>\n",
       "  <tbody>\n",
       "    <tr>\n",
       "      <th>nytimes</th>\n",
       "      <td>3207</td>\n",
       "      <td>0.963</td>\n",
       "      <td>0.198</td>\n",
       "    </tr>\n",
       "    <tr>\n",
       "      <th>CNN</th>\n",
       "      <td>4615</td>\n",
       "      <td>0.796</td>\n",
       "      <td>0.039</td>\n",
       "    </tr>\n",
       "    <tr>\n",
       "      <th>bbcworld</th>\n",
       "      <td>1186</td>\n",
       "      <td>0.995</td>\n",
       "      <td>0.317</td>\n",
       "    </tr>\n",
       "    <tr>\n",
       "      <th>theeconomist</th>\n",
       "      <td>3179</td>\n",
       "      <td>0.681</td>\n",
       "      <td>0.022</td>\n",
       "    </tr>\n",
       "    <tr>\n",
       "      <th>reuters</th>\n",
       "      <td>12030</td>\n",
       "      <td>0.796</td>\n",
       "      <td>0.034</td>\n",
       "    </tr>\n",
       "    <tr>\n",
       "      <th>WSJ</th>\n",
       "      <td>2633</td>\n",
       "      <td>0.930</td>\n",
       "      <td>0.009</td>\n",
       "    </tr>\n",
       "    <tr>\n",
       "      <th>TIME</th>\n",
       "      <td>2398</td>\n",
       "      <td>0.626</td>\n",
       "      <td>0.047</td>\n",
       "    </tr>\n",
       "    <tr>\n",
       "      <th>ABC</th>\n",
       "      <td>4649</td>\n",
       "      <td>0.810</td>\n",
       "      <td>0.051</td>\n",
       "    </tr>\n",
       "    <tr>\n",
       "      <th>washingtonpost</th>\n",
       "      <td>4130</td>\n",
       "      <td>0.959</td>\n",
       "      <td>0.055</td>\n",
       "    </tr>\n",
       "    <tr>\n",
       "      <th>AP</th>\n",
       "      <td>1764</td>\n",
       "      <td>0.966</td>\n",
       "      <td>0.472</td>\n",
       "    </tr>\n",
       "    <tr>\n",
       "      <th>Overall</th>\n",
       "      <td>39791</td>\n",
       "      <td>0.831</td>\n",
       "      <td>0.078</td>\n",
       "    </tr>\n",
       "  </tbody>\n",
       "</table>\n",
       "</div>"
      ],
      "text/plain": [
       "                Num_Tweets  Percent_Unique  Percent_Retweets\n",
       "nytimes               3207           0.963             0.198\n",
       "CNN                   4615           0.796             0.039\n",
       "bbcworld              1186           0.995             0.317\n",
       "theeconomist          3179           0.681             0.022\n",
       "reuters              12030           0.796             0.034\n",
       "WSJ                   2633           0.930             0.009\n",
       "TIME                  2398           0.626             0.047\n",
       "ABC                   4649           0.810             0.051\n",
       "washingtonpost        4130           0.959             0.055\n",
       "AP                    1764           0.966             0.472\n",
       "Overall              39791           0.831             0.078"
      ]
     },
     "execution_count": 69,
     "metadata": {},
     "output_type": "execute_result"
    }
   ],
   "source": [
    "pd.read_csv('CUT_DATA/descriptive_dataset.csv', index_col = 0).drop(columns = ['Unique_Tweets', 'Num_Retweets', 'Num_Truncated', 'Percent_Truncated'])"
   ]
  },
  {
   "cell_type": "markdown",
   "metadata": {},
   "source": [
    "**Making dehydrated datasets:**"
   ]
  },
  {
   "cell_type": "code",
   "execution_count": 3,
   "metadata": {},
   "outputs": [],
   "source": [
    "#the data used for the paper\n",
    "for s in sources:\n",
    "    df = pd.read_csv('CUT_DATA/' + s + '.csv', index_col = 'ID')\n",
    "    with open('dehydrated_data/' + s + '.txt', 'w') as f:\n",
    "        for i in df.index:\n",
    "            f.write(str(i) + '\\n')"
   ]
  },
  {
   "cell_type": "code",
   "execution_count": 4,
   "metadata": {},
   "outputs": [],
   "source": [
    "#the extended data set - all tweets that were collected\n",
    "for s in sources:\n",
    "    df = pd.read_csv('Final_Data/' + s + '.csv', index_col = 'ID')\n",
    "    with open('full_dehydrated_data/' + s + '.txt', 'w') as f:\n",
    "        for i in df.index:\n",
    "            f.write(str(i) + '\\n')"
   ]
  },
  {
   "cell_type": "code",
   "execution_count": null,
   "metadata": {},
   "outputs": [],
   "source": []
  }
 ],
 "metadata": {
  "kernelspec": {
   "display_name": "Python 3",
   "language": "python",
   "name": "python3"
  },
  "language_info": {
   "codemirror_mode": {
    "name": "ipython",
    "version": 3
   },
   "file_extension": ".py",
   "mimetype": "text/x-python",
   "name": "python",
   "nbconvert_exporter": "python",
   "pygments_lexer": "ipython3",
   "version": "3.7.3"
  }
 },
 "nbformat": 4,
 "nbformat_minor": 2
}
